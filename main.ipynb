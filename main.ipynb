{
  "nbformat": 4,
  "nbformat_minor": 0,
  "metadata": {
    "colab": {
      "provenance": [],
      "authorship_tag": "ABX9TyOkaZvmu6DbxvpSOfvNFC0B"
    },
    "kernelspec": {
      "name": "python3",
      "display_name": "Python 3"
    },
    "language_info": {
      "name": "python"
    }
  },
  "cells": [
    {
      "cell_type": "code",
      "execution_count": 62,
      "metadata": {
        "colab": {
          "base_uri": "https://localhost:8080/"
        },
        "id": "4hWq0IK-Z5Ut",
        "outputId": "6acdcbc7-0bc9-472c-cf9f-2bf238794831"
      },
      "outputs": [
        {
          "output_type": "stream",
          "name": "stdout",
          "text": [
            "Drive already mounted at /content/drive; to attempt to forcibly remount, call drive.mount(\"/content/drive\", force_remount=True).\n"
          ]
        }
      ],
      "source": [
        "from google.colab import drive\n",
        "drive.mount('/content/drive')"
      ]
    },
    {
      "cell_type": "code",
      "source": [
        "pip install -q pyspark"
      ],
      "metadata": {
        "id": "qybjror3aA_f",
        "colab": {
          "base_uri": "https://localhost:8080/"
        },
        "outputId": "5b25491f-6e01-422d-fabf-6c172528652f"
      },
      "execution_count": null,
      "outputs": [
        {
          "output_type": "stream",
          "name": "stdout",
          "text": [
            "\u001b[2K     \u001b[90m━━━━━━━━━━━━━━━━━━━━━━━━━━━━━━━━━━━━━━━━\u001b[0m \u001b[32m316.9/316.9 MB\u001b[0m \u001b[31m4.4 MB/s\u001b[0m eta \u001b[36m0:00:00\u001b[0m\n",
            "\u001b[?25h  Preparing metadata (setup.py) ... \u001b[?25l\u001b[?25hdone\n",
            "  Building wheel for pyspark (setup.py) ... \u001b[?25l\u001b[?25hdone\n"
          ]
        }
      ]
    },
    {
      "cell_type": "code",
      "source": [
        "from pyspark.sql import SparkSession\n",
        "\n",
        "spark = SparkSession.builder\\\n",
        "        .master(\"local[*]\")\\\n",
        "        .appName('PySpark_Tutorial1')\\\n",
        "        .getOrCreate()"
      ],
      "metadata": {
        "id": "ie7ub0pdZ87_"
      },
      "execution_count": 41,
      "outputs": []
    },
    {
      "cell_type": "code",
      "source": [
        "data = (\n",
        "    spark.read.option(\"delimiter\", \",\")\n",
        "    .option(\"header\", True)\n",
        "    .option(\"escape\", '\"')\n",
        "    .csv(\"/content/drive/MyDrive/Colab Notebooks/data.csv\")\n",
        ")"
      ],
      "metadata": {
        "id": "bIoA8j9tKGha"
      },
      "execution_count": 138,
      "outputs": []
    },
    {
      "cell_type": "code",
      "source": [
        "schema = StructType(\n",
        "    [\n",
        "        StructField(\"id\", StringType(), nullable=True),\n",
        "        StructField(\"name\", StringType(), True),\n",
        "        StructField(\"artists\", StringType(), True),\n",
        "        StructField(\"duration_ms\", DoubleType(), True),\n",
        "        StructField(\"release_date\", DateType(), True),\n",
        "        StructField(\"year\", IntegerType(), True),\n",
        "        StructField(\"acousticness\", StringType(), True),\n",
        "        StructField(\"danceability\", StringType(), True),\n",
        "        StructField(\"energy\", StringType(), True),\n",
        "        StructField(\"instrumentalness\", StringType(), True),\n",
        "        StructField(\"liveness\", StringType(), True),\n",
        "        StructField(\"loudness\", StringType(), True),\n",
        "        StructField(\"speechiness\", StringType(), True),\n",
        "        StructField(\"tempo\", StringType(), True),\n",
        "        StructField(\"valence\", StringType(), True),\n",
        "        StructField(\"mode\", StringType(), True),\n",
        "        StructField(\"key\", StringType(), True),\n",
        "        StructField(\"popularity\", DoubleType(), True),\n",
        "        StructField(\"explicit\", StringType(), True),\n",
        "    ]\n",
        ")\n",
        "\n",
        "\n",
        "data = (\n",
        "    spark.read.option(\"delimiter\", \",\")\n",
        "    .option(\"header\", True)\n",
        "    .option(\"escape\", '\"')\n",
        "    .schema(schema)\n",
        "    .csv(\"/content/drive/MyDrive/Colab Notebooks/data.csv\")\n",
        ")\n",
        "data1 = data\n",
        "data2 = data\n"
      ],
      "metadata": {
        "id": "p7HFR4v62JY_"
      },
      "execution_count": 176,
      "outputs": []
    },
    {
      "cell_type": "code",
      "source": [
        "from pyspark.sql import functions as f\n",
        "\n",
        "#Найти наиболее популярных артистов (средняя популярность всех произведений, в которых упомянут артист).\n",
        "#Выборку производить из тех артистов, у которых общее количество упоминаний в произведениях не менее 200.\n",
        "exploded_data = data.select(f.explode(f.split(col(\"artists\"), \",\")).alias(\"artist\"), \"popularity\")\n",
        "cleaned_data = exploded_data.withColumn(\"artist\", f.regexp_replace(col(\"artist\"), \"[^a-zA-Z0-9 ]\", \"\")) \\\n",
        "    .withColumn(\"artist\", f.trim(col(\"artist\")))\n",
        "result = cleaned_data.groupBy(\"artist\") \\\n",
        "    .agg(f.avg(\"popularity\").alias(\"average_popularity\"), f.count(\"*\").alias(\"total_mentions\")) \\\n",
        "    .filter(col(\"total_mentions\") >= 200) \\\n",
        "    .select(\"artist\") \\\n",
        "    .orderBy(\"average_popularity\", ascending=False)\n",
        "result.show(5)\n",
        "\n",
        "#Отобразить изменение средних значений аудио характеристик от года к году.\n",
        "#Такими характеристиками являются acousticness, danceability, energy, speechiness, liveness и valence .\n",
        "#Произвести сортировку полученной таблицы по столбцу year по возрастанию. Средние значения округлить до 2-ух знаков после запятой.\n",
        "data1.groupBy('year') \\\n",
        "    .agg(\n",
        "        f.round(f.avg('acousticness'), 2).alias('acousticness'),\n",
        "        f.round(f.avg('danceability'), 2).alias('danceability'),\n",
        "        f.round(f.avg('energy'), 2).alias('energy'),\n",
        "        f.round(f.avg('liveness'), 2).alias('liveness'),\n",
        "        f.round(f.avg('speechiness'), 2).alias('speechiness'),\n",
        "        f.round(f.avg('valence'), 2).alias('valence')\n",
        "    ) \\\n",
        "    .sort('year') \\\n",
        "    .show(5)\n",
        "\n",
        "#Найти количество произведений, выпущенных с 1951 года, в авторах которых присутствует \"Sergei Rachmaninoff\".\n",
        "data2.filter( (col('year') >= '1951') ) \\\n",
        "    .filter(col(\"artists\").like(\"%Sergei Rachmaninoff%\")) \\\n",
        "    .agg({'id':'count'}) \\\n",
        "    .show(5)"
      ],
      "metadata": {
        "colab": {
          "base_uri": "https://localhost:8080/"
        },
        "id": "yItcCXEl-L-z",
        "outputId": "90035ba9-77e4-4931-8460-e9ecaed66455"
      },
      "execution_count": 178,
      "outputs": [
        {
          "output_type": "stream",
          "name": "stdout",
          "text": [
            "+------------+\n",
            "|      artist|\n",
            "+------------+\n",
            "|       Drake|\n",
            "|  Kanye West|\n",
            "|Taylor Swift|\n",
            "|      Eminem|\n",
            "|   Lil Wayne|\n",
            "+------------+\n",
            "only showing top 5 rows\n",
            "\n",
            "+----+------------+------------+------+--------+-----------+-------+\n",
            "|year|acousticness|danceability|energy|liveness|speechiness|valence|\n",
            "+----+------------+------------+------+--------+-----------+-------+\n",
            "|1921|         0.9|        0.43|  0.24|    0.22|       0.08|   0.43|\n",
            "|1922|        0.94|        0.48|  0.24|    0.24|       0.12|   0.53|\n",
            "|1923|        0.98|        0.57|  0.25|    0.24|        0.1|   0.62|\n",
            "|1924|        0.94|        0.55|  0.35|    0.24|       0.09|   0.67|\n",
            "|1925|        0.97|        0.57|  0.26|    0.24|       0.12|   0.62|\n",
            "+----+------------+------------+------+--------+-----------+-------+\n",
            "only showing top 5 rows\n",
            "\n",
            "+---------+\n",
            "|count(id)|\n",
            "+---------+\n",
            "|       46|\n",
            "+---------+\n",
            "\n"
          ]
        }
      ]
    }
  ]
}